{
 "cells": [
  {
   "cell_type": "markdown",
   "id": "22f8ce2a-3071-4466-9e66-4b98654f6c86",
   "metadata": {},
   "source": [
    "# Classification with Natural Language Processing"
   ]
  },
  {
   "cell_type": "markdown",
   "id": "8c584ee7-028c-4556-86b6-c797147ab335",
   "metadata": {},
   "source": [
    "The dataset is taken from the source \"https://www.kaggle.com/datasets/jackksoncsie/spam-email-dataset/data\"  \n",
    "The dataset consists of raw email text as well as identification of spam or legitimate emails. Classification supervised learning with natural language processing such as Naive Bayes, logistic regression, random forest classification, xgboost classification methods are performed on this data to predict whether the email is spam or legitimate from the email text. "
   ]
  },
  {
   "cell_type": "markdown",
   "id": "8dd68299-2345-44ad-85a8-bb3a5298fa3d",
   "metadata": {},
   "source": [
    "## Importing the libraries"
   ]
  },
  {
   "cell_type": "code",
   "execution_count": 2,
   "id": "908fc387-74fa-4525-93f2-529f298a2cb3",
   "metadata": {},
   "outputs": [],
   "source": [
    "import pandas as pd\n",
    "import seaborn as sns\n",
    "import matplotlib.pyplot as plt\n",
    "from sklearn.model_selection import train_test_split\n",
    "from sklearn.feature_extraction.text import TfidfVectorizer\n",
    "from sklearn.naive_bayes import MultinomialNB\n",
    "from sklearn.linear_model import LogisticRegression\n",
    "from sklearn.ensemble import RandomForestClassifier\n",
    "from xgboost import XGBClassifier\n",
    "from sklearn.metrics import ConfusionMatrixDisplay, classification_report"
   ]
  },
  {
   "cell_type": "markdown",
   "id": "8aec9ee7-d7e1-45ec-aa36-362a2f5f96e5",
   "metadata": {},
   "source": [
    "## Data visualization"
   ]
  },
  {
   "cell_type": "code",
   "execution_count": 3,
   "id": "10ef58a9-b92e-4c15-8b63-19036346fc08",
   "metadata": {},
   "outputs": [],
   "source": [
    "df = pd.read_csv('emails.csv')"
   ]
  },
  {
   "cell_type": "code",
   "execution_count": 4,
   "id": "f32d1209-6f92-4a1f-a6bc-7af13669e0bd",
   "metadata": {},
   "outputs": [
    {
     "data": {
      "text/html": [
       "<div>\n",
       "<style scoped>\n",
       "    .dataframe tbody tr th:only-of-type {\n",
       "        vertical-align: middle;\n",
       "    }\n",
       "\n",
       "    .dataframe tbody tr th {\n",
       "        vertical-align: top;\n",
       "    }\n",
       "\n",
       "    .dataframe thead th {\n",
       "        text-align: right;\n",
       "    }\n",
       "</style>\n",
       "<table border=\"1\" class=\"dataframe\">\n",
       "  <thead>\n",
       "    <tr style=\"text-align: right;\">\n",
       "      <th></th>\n",
       "      <th>text</th>\n",
       "      <th>spam</th>\n",
       "    </tr>\n",
       "  </thead>\n",
       "  <tbody>\n",
       "    <tr>\n",
       "      <th>0</th>\n",
       "      <td>Subject: naturally irresistible your corporate...</td>\n",
       "      <td>1</td>\n",
       "    </tr>\n",
       "    <tr>\n",
       "      <th>1</th>\n",
       "      <td>Subject: the stock trading gunslinger  fanny i...</td>\n",
       "      <td>1</td>\n",
       "    </tr>\n",
       "    <tr>\n",
       "      <th>2</th>\n",
       "      <td>Subject: unbelievable new homes made easy  im ...</td>\n",
       "      <td>1</td>\n",
       "    </tr>\n",
       "    <tr>\n",
       "      <th>3</th>\n",
       "      <td>Subject: 4 color printing special  request add...</td>\n",
       "      <td>1</td>\n",
       "    </tr>\n",
       "    <tr>\n",
       "      <th>4</th>\n",
       "      <td>Subject: do not have money , get software cds ...</td>\n",
       "      <td>1</td>\n",
       "    </tr>\n",
       "  </tbody>\n",
       "</table>\n",
       "</div>"
      ],
      "text/plain": [
       "                                                text  spam\n",
       "0  Subject: naturally irresistible your corporate...     1\n",
       "1  Subject: the stock trading gunslinger  fanny i...     1\n",
       "2  Subject: unbelievable new homes made easy  im ...     1\n",
       "3  Subject: 4 color printing special  request add...     1\n",
       "4  Subject: do not have money , get software cds ...     1"
      ]
     },
     "execution_count": 4,
     "metadata": {},
     "output_type": "execute_result"
    }
   ],
   "source": [
    "df.head()"
   ]
  },
  {
   "cell_type": "markdown",
   "id": "f691e331-de1a-4c5d-8697-a45fac32115d",
   "metadata": {},
   "source": [
    "#### 1 indicates that it is a spam email and 0 indicates that it is not a spam email."
   ]
  },
  {
   "cell_type": "code",
   "execution_count": 86,
   "id": "c43f3b88-fde7-4055-a1a7-c8abf68a6c59",
   "metadata": {},
   "outputs": [
    {
     "data": {
      "text/plain": [
       "text    0\n",
       "spam    0\n",
       "dtype: int64"
      ]
     },
     "execution_count": 86,
     "metadata": {},
     "output_type": "execute_result"
    }
   ],
   "source": [
    "df.isnull().sum()"
   ]
  },
  {
   "cell_type": "markdown",
   "id": "e5864350-96db-42f7-868c-72ac4fd49a63",
   "metadata": {},
   "source": [
    "#### There are no missing values"
   ]
  },
  {
   "cell_type": "code",
   "execution_count": 6,
   "id": "28c35c9a-a790-4f5b-94f2-5b6a513d6640",
   "metadata": {},
   "outputs": [
    {
     "data": {
      "text/plain": [
       "spam\n",
       "0    4360\n",
       "1    1368\n",
       "Name: count, dtype: int64"
      ]
     },
     "execution_count": 6,
     "metadata": {},
     "output_type": "execute_result"
    }
   ],
   "source": [
    "df['spam'].value_counts()"
   ]
  },
  {
   "cell_type": "code",
   "execution_count": 8,
   "id": "7d3183a3-edbe-4b5c-9775-47c27ce40048",
   "metadata": {},
   "outputs": [
    {
     "data": {
      "text/plain": [
       "<Axes: xlabel='spam', ylabel='count'>"
      ]
     },
     "execution_count": 8,
     "metadata": {},
     "output_type": "execute_result"
    },
    {
     "data": {
      "image/png": "[encoded data removed]",
      "text/plain": [
       "<Figure size 640x480 with 1 Axes>"
      ]
     },
     "metadata": {},
     "output_type": "display_data"
    }
   ],
   "source": [
    "sns.countplot(data=df,x='spam')"
   ]
  },
  {
   "cell_type": "markdown",
   "id": "b68f8f44-e63e-4dde-9e62-e672b7b58f37",
   "metadata": {},
   "source": [
    "#### There are 4360 cases of legitimate emails and 1368 cases of spam emails, thus indicating imbalance of the two classes. This could lead to the problem that the model is biased towards the majority class. "
   ]
  },
  {
   "cell_type": "code",
   "execution_count": 10,
   "id": "456c3c66-2bb6-41f8-a338-b8b2d402fc5c",
   "metadata": {},
   "outputs": [],
   "source": [
    "X= df['text'] #feature"
   ]
  },
  {
   "cell_type": "code",
   "execution_count": 11,
   "id": "3a7c87d7-f5aa-48c0-b779-93c7a6549e5e",
   "metadata": {},
   "outputs": [],
   "source": [
    "y = df['spam'] #label"
   ]
  },
  {
   "cell_type": "markdown",
   "id": "b69f1331-500d-4651-8f5b-97b637eff76f",
   "metadata": {},
   "source": [
    "## Train test split"
   ]
  },
  {
   "cell_type": "code",
   "execution_count": 14,
   "id": "04d3d1c6-9030-4efa-ae41-3f90a40c3a16",
   "metadata": {},
   "outputs": [],
   "source": [
    "X_train, X_test, y_train, y_test = train_test_split(X, y, test_size=0.30, random_state=101)"
   ]
  },
  {
   "cell_type": "markdown",
   "id": "7de1a581-1a9f-42ac-beb5-8e3f13358025",
   "metadata": {},
   "source": [
    "## Vectorization"
   ]
  },
  {
   "cell_type": "code",
   "execution_count": 18,
   "id": "b9b9146d-449c-470c-86c7-3cf43a7dfd6e",
   "metadata": {},
   "outputs": [],
   "source": [
    "tfidf = TfidfVectorizer(stop_words='english')"
   ]
  },
  {
   "cell_type": "code",
   "execution_count": 19,
   "id": "ec4eabd8-c351-43f2-b737-b415811cf038",
   "metadata": {},
   "outputs": [],
   "source": [
    "X_train_tfidf = tfidf.fit_transform(X_train)"
   ]
  },
  {
   "cell_type": "code",
   "execution_count": 20,
   "id": "89ff7dfe-9fb6-410d-9983-a7dda4d1d11c",
   "metadata": {},
   "outputs": [],
   "source": [
    "X_test_tfidf = tfidf.transform(X_test)"
   ]
  },
  {
   "cell_type": "markdown",
   "id": "9b4957c9-21c2-4757-92e7-3d2ae3996a36",
   "metadata": {},
   "source": [
    "## Naive Bayes classification "
   ]
  },
  {
   "cell_type": "code",
   "execution_count": 87,
   "id": "8d019104-c660-4667-882b-ad8343220eb4",
   "metadata": {},
   "outputs": [],
   "source": [
    "model = MultinomialNB()"
   ]
  },
  {
   "cell_type": "code",
   "execution_count": 88,
   "id": "314ae04c-b46f-4375-a0cb-ffcbed4af1c0",
   "metadata": {},
   "outputs": [
    {
     "name": "stdout",
     "output_type": "stream",
     "text": [
      "              precision    recall  f1-score   support\n",
      "\n",
      "           0       0.89      1.00      0.94      1314\n",
      "           1       1.00      0.60      0.75       405\n",
      "\n",
      "    accuracy                           0.91      1719\n",
      "   macro avg       0.95      0.80      0.85      1719\n",
      "weighted avg       0.92      0.91      0.90      1719\n",
      "\n"
     ]
    },
    {
     "data": {
      "text/plain": [
       "<sklearn.metrics._plot.confusion_matrix.ConfusionMatrixDisplay at 0x261b2975a90>"
      ]
     },
     "execution_count": 88,
     "metadata": {},
     "output_type": "execute_result"
    },
    {
     "data": {
      "image/png": "[encoded data removed]",
      "text/plain": [
       "<Figure size 640x480 with 2 Axes>"
      ]
     },
     "metadata": {},
     "output_type": "display_data"
    }
   ],
   "source": [
    "model.fit(X_train_tfidf,y_train)\n",
    "y_pred = model.predict(X_test_tfidf)\n",
    "print(classification_report(y_test,y_pred))\n",
    "ConfusionMatrixDisplay.from_estimator(model,X_test_tfidf,y_test)"
   ]
  },
  {
   "cell_type": "markdown",
   "id": "7c00de06-4975-4da5-8fc2-e1d49fc55a0b",
   "metadata": {},
   "source": [
    "There are many spam emails which are not predicted as spam. This could be a result of the class imbalance problem as discussed above.  \n",
    "This issue is solved by adding the parameter 'class_prior' to the model."
   ]
  },
  {
   "cell_type": "code",
   "execution_count": null,
   "id": "06ae6ffa-e402-4442-91ac-cbe2a2581c58",
   "metadata": {},
   "outputs": [],
   "source": []
  },
  {
   "cell_type": "code",
   "execution_count": 89,
   "id": "2f545389-4e63-4bdd-8c4e-641819cf40aa",
   "metadata": {},
   "outputs": [],
   "source": [
    "model = MultinomialNB(class_prior = [0.5,0.5])"
   ]
  },
  {
   "cell_type": "code",
   "execution_count": 90,
   "id": "416ad2a6-6e3d-42d6-ade7-b9a35754b2ae",
   "metadata": {},
   "outputs": [
    {
     "name": "stdout",
     "output_type": "stream",
     "text": [
      "              precision    recall  f1-score   support\n",
      "\n",
      "           0       0.95      1.00      0.97      1314\n",
      "           1       1.00      0.82      0.90       405\n",
      "\n",
      "    accuracy                           0.96      1719\n",
      "   macro avg       0.97      0.91      0.94      1719\n",
      "weighted avg       0.96      0.96      0.96      1719\n",
      "\n"
     ]
    },
    {
     "data": {
      "text/plain": [
       "<sklearn.metrics._plot.confusion_matrix.ConfusionMatrixDisplay at 0x261b0b1d730>"
      ]
     },
     "execution_count": 90,
     "metadata": {},
     "output_type": "execute_result"
    },
    {
     "data": {
      "image/png": "[encoded data removed]",
      "text/plain": [
       "<Figure size 640x480 with 2 Axes>"
      ]
     },
     "metadata": {},
     "output_type": "display_data"
    }
   ],
   "source": [
    "model.fit(X_train_tfidf,y_train)\n",
    "y_pred = model.predict(X_test_tfidf)\n",
    "print(classification_report(y_test,y_pred))\n",
    "ConfusionMatrixDisplay.from_estimator(model,X_test_tfidf,y_test)"
   ]
  },
  {
   "cell_type": "markdown",
   "id": "344151a4-d0e5-4817-88e5-7bd9e893a5c5",
   "metadata": {},
   "source": [
    "#### Hence, addressing the class imbalance issue clearly led to an increase in the performance of the model."
   ]
  },
  {
   "cell_type": "code",
   "execution_count": null,
   "id": "9f514bda-bcae-41a1-83ee-3687c08e0cba",
   "metadata": {},
   "outputs": [],
   "source": []
  },
  {
   "cell_type": "markdown",
   "id": "e4080929-abdd-4ae2-b29a-71aff0c2c7df",
   "metadata": {},
   "source": [
    "## Logistic regression "
   ]
  },
  {
   "cell_type": "code",
   "execution_count": 65,
   "id": "dc0af08e-c5c4-4a7e-9123-985afab566f6",
   "metadata": {},
   "outputs": [],
   "source": [
    "model = LogisticRegression(class_weight='balanced')"
   ]
  },
  {
   "cell_type": "code",
   "execution_count": 66,
   "id": "27ad887d-ee5b-4d9b-9524-ee8e1ad5732c",
   "metadata": {},
   "outputs": [
    {
     "name": "stdout",
     "output_type": "stream",
     "text": [
      "              precision    recall  f1-score   support\n",
      "\n",
      "           0       1.00      0.99      0.99      1314\n",
      "           1       0.96      1.00      0.98       405\n",
      "\n",
      "    accuracy                           0.99      1719\n",
      "   macro avg       0.98      0.99      0.99      1719\n",
      "weighted avg       0.99      0.99      0.99      1719\n",
      "\n"
     ]
    },
    {
     "data": {
      "text/plain": [
       "<sklearn.metrics._plot.confusion_matrix.ConfusionMatrixDisplay at 0x261b0606060>"
      ]
     },
     "execution_count": 66,
     "metadata": {},
     "output_type": "execute_result"
    },
    {
     "data": {
      "image/png": "[encoded data removed]",
      "text/plain": [
       "<Figure size 640x480 with 2 Axes>"
      ]
     },
     "metadata": {},
     "output_type": "display_data"
    }
   ],
   "source": [
    "model.fit(X_train_tfidf,y_train)\n",
    "y_pred = model.predict(X_test_tfidf)\n",
    "print(classification_report(y_test,y_pred))\n",
    "ConfusionMatrixDisplay.from_estimator(model,X_test_tfidf,y_test)"
   ]
  },
  {
   "cell_type": "code",
   "execution_count": null,
   "id": "111ad897-cf06-471a-aaaa-91be04de196e",
   "metadata": {},
   "outputs": [],
   "source": []
  },
  {
   "cell_type": "markdown",
   "id": "62592161-54ba-425c-b9cf-78e2e8c9b0fb",
   "metadata": {},
   "source": [
    "## Random forest classifier"
   ]
  },
  {
   "cell_type": "code",
   "execution_count": 81,
   "id": "5ffe9394-2e4b-4652-b0c3-8fc5e3306bcd",
   "metadata": {},
   "outputs": [],
   "source": [
    "model = RandomForestClassifier(class_weight='balanced')"
   ]
  },
  {
   "cell_type": "code",
   "execution_count": 82,
   "id": "825641e4-fbdc-453c-824b-914888d0590f",
   "metadata": {},
   "outputs": [
    {
     "name": "stdout",
     "output_type": "stream",
     "text": [
      "              precision    recall  f1-score   support\n",
      "\n",
      "           0       0.99      0.99      0.99      1314\n",
      "           1       0.97      0.95      0.96       405\n",
      "\n",
      "    accuracy                           0.98      1719\n",
      "   macro avg       0.98      0.97      0.98      1719\n",
      "weighted avg       0.98      0.98      0.98      1719\n",
      "\n"
     ]
    },
    {
     "data": {
      "text/plain": [
       "<sklearn.metrics._plot.confusion_matrix.ConfusionMatrixDisplay at 0x261af6f5370>"
      ]
     },
     "execution_count": 82,
     "metadata": {},
     "output_type": "execute_result"
    },
    {
     "data": {
      "image/png": "[encoded data removed]",
      "text/plain": [
       "<Figure size 640x480 with 2 Axes>"
      ]
     },
     "metadata": {},
     "output_type": "display_data"
    }
   ],
   "source": [
    "model.fit(X_train_tfidf,y_train)\n",
    "y_pred = model.predict(X_test_tfidf)\n",
    "print(classification_report(y_test,y_pred))\n",
    "ConfusionMatrixDisplay.from_estimator(model,X_test_tfidf,y_test)"
   ]
  },
  {
   "cell_type": "code",
   "execution_count": null,
   "id": "3a93c8bd-7972-4dfe-89ef-b33adf6df0d3",
   "metadata": {},
   "outputs": [],
   "source": []
  },
  {
   "cell_type": "markdown",
   "id": "9aeb51b5-7283-4d07-8e2f-66ad93ee0605",
   "metadata": {},
   "source": [
    "## XGboost"
   ]
  },
  {
   "cell_type": "code",
   "execution_count": 70,
   "id": "70f8b243-0b35-438c-be98-6a959a2a9e31",
   "metadata": {},
   "outputs": [
    {
     "name": "stdout",
     "output_type": "stream",
     "text": [
      "Collecting xgboostNote: you may need to restart the kernel to use updated packages.\n",
      "\n",
      "  Downloading xgboost-3.0.2-py3-none-win_amd64.whl.metadata (2.1 kB)\n",
      "Requirement already satisfied: numpy in c:\\users\\k  akshaya\\anaconda3\\lib\\site-packages (from xgboost) (1.26.4)\n",
      "Requirement already satisfied: scipy in c:\\users\\k  akshaya\\anaconda3\\lib\\site-packages (from xgboost) (1.13.1)\n",
      "Downloading xgboost-3.0.2-py3-none-win_amd64.whl (150.0 MB)\n",
      "   ---------------------------------------- 0.0/150.0 MB ? eta -:--:--\n",
      "   ---------------------------------------- 1.0/150.0 MB 8.4 MB/s eta 0:00:18\n",
      "    --------------------------------------- 2.4/150.0 MB 6.7 MB/s eta 0:00:23\n",
      "    --------------------------------------- 3.4/150.0 MB 6.3 MB/s eta 0:00:24\n",
      "   - -------------------------------------- 5.0/150.0 MB 6.7 MB/s eta 0:00:22\n",
      "   - -------------------------------------- 6.3/150.0 MB 6.6 MB/s eta 0:00:22\n",
      "   -- ------------------------------------- 8.1/150.0 MB 7.2 MB/s eta 0:00:20\n",
      "   -- ------------------------------------- 10.2/150.0 MB 7.6 MB/s eta 0:00:19\n",
      "   --- ------------------------------------ 12.3/150.0 MB 8.0 MB/s eta 0:00:18\n",
      "   --- ------------------------------------ 14.2/150.0 MB 8.2 MB/s eta 0:00:17\n",
      "   ---- ----------------------------------- 16.5/150.0 MB 8.4 MB/s eta 0:00:16\n",
      "   ---- ----------------------------------- 18.6/150.0 MB 8.6 MB/s eta 0:00:16\n",
      "   ----- ---------------------------------- 21.0/150.0 MB 8.8 MB/s eta 0:00:15\n",
      "   ------ --------------------------------- 23.3/150.0 MB 9.0 MB/s eta 0:00:15\n",
      "   ------ --------------------------------- 25.7/150.0 MB 9.1 MB/s eta 0:00:14\n",
      "   ------- -------------------------------- 26.7/150.0 MB 8.9 MB/s eta 0:00:14\n",
      "   ------- -------------------------------- 28.6/150.0 MB 8.9 MB/s eta 0:00:14\n",
      "   -------- ------------------------------- 30.4/150.0 MB 8.9 MB/s eta 0:00:14\n",
      "   -------- ------------------------------- 32.0/150.0 MB 8.8 MB/s eta 0:00:14\n",
      "   -------- ------------------------------- 33.6/150.0 MB 8.8 MB/s eta 0:00:14\n",
      "   --------- ------------------------------ 34.6/150.0 MB 8.5 MB/s eta 0:00:14\n",
      "   --------- ------------------------------ 36.2/150.0 MB 8.5 MB/s eta 0:00:14\n",
      "   ---------- ----------------------------- 38.0/150.0 MB 8.4 MB/s eta 0:00:14\n",
      "   ---------- ----------------------------- 39.3/150.0 MB 8.5 MB/s eta 0:00:14\n",
      "   ---------- ----------------------------- 41.2/150.0 MB 8.4 MB/s eta 0:00:13\n",
      "   ----------- ---------------------------- 43.3/150.0 MB 8.5 MB/s eta 0:00:13\n",
      "   ------------ --------------------------- 45.4/150.0 MB 8.5 MB/s eta 0:00:13\n",
      "   ------------ --------------------------- 47.4/150.0 MB 8.6 MB/s eta 0:00:12\n",
      "   ------------- -------------------------- 49.5/150.0 MB 8.6 MB/s eta 0:00:12\n",
      "   ------------- -------------------------- 51.4/150.0 MB 8.6 MB/s eta 0:00:12\n",
      "   -------------- ------------------------- 53.0/150.0 MB 8.6 MB/s eta 0:00:12\n",
      "   -------------- ------------------------- 54.5/150.0 MB 8.6 MB/s eta 0:00:12\n",
      "   -------------- ------------------------- 56.1/150.0 MB 8.6 MB/s eta 0:00:11\n",
      "   --------------- ------------------------ 57.7/150.0 MB 8.5 MB/s eta 0:00:11\n",
      "   --------------- ------------------------ 58.7/150.0 MB 8.4 MB/s eta 0:00:11\n",
      "   ---------------- ----------------------- 60.3/150.0 MB 8.4 MB/s eta 0:00:11\n",
      "   ---------------- ----------------------- 61.6/150.0 MB 8.3 MB/s eta 0:00:11\n",
      "   ---------------- ----------------------- 62.9/150.0 MB 8.3 MB/s eta 0:00:11\n",
      "   ----------------- ---------------------- 64.5/150.0 MB 8.3 MB/s eta 0:00:11\n",
      "   ----------------- ---------------------- 65.3/150.0 MB 8.2 MB/s eta 0:00:11\n",
      "   ----------------- ---------------------- 66.6/150.0 MB 8.1 MB/s eta 0:00:11\n",
      "   ------------------ --------------------- 67.6/150.0 MB 8.0 MB/s eta 0:00:11\n",
      "   ------------------ --------------------- 68.7/150.0 MB 7.9 MB/s eta 0:00:11\n",
      "   ------------------ --------------------- 70.3/150.0 MB 7.9 MB/s eta 0:00:11\n",
      "   ------------------- -------------------- 71.6/150.0 MB 7.9 MB/s eta 0:00:10\n",
      "   ------------------- -------------------- 73.1/150.0 MB 7.9 MB/s eta 0:00:10\n",
      "   ------------------- -------------------- 75.0/150.0 MB 7.9 MB/s eta 0:00:10\n",
      "   -------------------- ------------------- 76.8/150.0 MB 7.9 MB/s eta 0:00:10\n",
      "   -------------------- ------------------- 78.4/150.0 MB 7.9 MB/s eta 0:00:10\n",
      "   --------------------- ------------------ 80.0/150.0 MB 7.9 MB/s eta 0:00:09\n",
      "   --------------------- ------------------ 81.3/150.0 MB 8.0 MB/s eta 0:00:09\n",
      "   --------------------- ------------------ 82.1/150.0 MB 7.8 MB/s eta 0:00:09\n",
      "   ---------------------- ----------------- 82.6/150.0 MB 7.8 MB/s eta 0:00:09\n",
      "   ---------------------- ----------------- 84.9/150.0 MB 7.8 MB/s eta 0:00:09\n",
      "   ----------------------- ---------------- 86.2/150.0 MB 7.8 MB/s eta 0:00:09\n",
      "   ----------------------- ---------------- 88.1/150.0 MB 7.8 MB/s eta 0:00:08\n",
      "   ----------------------- ---------------- 89.7/150.0 MB 7.8 MB/s eta 0:00:08\n",
      "   ------------------------ --------------- 91.0/150.0 MB 7.7 MB/s eta 0:00:08\n",
      "   ------------------------ --------------- 92.0/150.0 MB 7.7 MB/s eta 0:00:08\n",
      "   ------------------------ --------------- 93.3/150.0 MB 7.7 MB/s eta 0:00:08\n",
      "   ------------------------- -------------- 95.7/150.0 MB 7.7 MB/s eta 0:00:08\n",
      "   -------------------------- ------------- 98.0/150.0 MB 7.8 MB/s eta 0:00:07\n",
      "   -------------------------- ------------- 100.4/150.0 MB 7.8 MB/s eta 0:00:07\n",
      "   --------------------------- ------------ 103.0/150.0 MB 7.9 MB/s eta 0:00:06\n",
      "   ---------------------------- ----------- 105.1/150.0 MB 7.9 MB/s eta 0:00:06\n",
      "   ---------------------------- ----------- 107.5/150.0 MB 8.0 MB/s eta 0:00:06\n",
      "   ----------------------------- ---------- 109.8/150.0 MB 8.1 MB/s eta 0:00:05\n",
      "   ----------------------------- ---------- 112.5/150.0 MB 8.1 MB/s eta 0:00:05\n",
      "   ------------------------------ --------- 114.8/150.0 MB 8.2 MB/s eta 0:00:05\n",
      "   ------------------------------- -------- 117.4/150.0 MB 8.2 MB/s eta 0:00:04\n",
      "   ------------------------------- -------- 119.8/150.0 MB 8.3 MB/s eta 0:00:04\n",
      "   -------------------------------- ------- 121.6/150.0 MB 8.3 MB/s eta 0:00:04\n",
      "   --------------------------------- ------ 124.3/150.0 MB 8.3 MB/s eta 0:00:04\n",
      "   --------------------------------- ------ 126.9/150.0 MB 8.4 MB/s eta 0:00:03\n",
      "   ---------------------------------- ----- 129.0/150.0 MB 8.4 MB/s eta 0:00:03\n",
      "   ----------------------------------- ---- 131.3/150.0 MB 8.4 MB/s eta 0:00:03\n",
      "   ----------------------------------- ---- 133.2/150.0 MB 8.5 MB/s eta 0:00:02\n",
      "   ------------------------------------ --- 135.5/150.0 MB 8.5 MB/s eta 0:00:02\n",
      "   ------------------------------------ --- 137.6/150.0 MB 8.5 MB/s eta 0:00:02\n",
      "   ------------------------------------- -- 139.5/150.0 MB 8.5 MB/s eta 0:00:02\n",
      "   ------------------------------------- -- 141.0/150.0 MB 8.5 MB/s eta 0:00:02\n",
      "   -------------------------------------- - 142.6/150.0 MB 8.5 MB/s eta 0:00:01\n",
      "   -------------------------------------- - 144.4/150.0 MB 8.5 MB/s eta 0:00:01\n",
      "   ---------------------------------------  146.8/150.0 MB 8.5 MB/s eta 0:00:01\n",
      "   ---------------------------------------  149.2/150.0 MB 8.6 MB/s eta 0:00:01\n",
      "   ---------------------------------------  149.9/150.0 MB 8.6 MB/s eta 0:00:01\n",
      "   ---------------------------------------  149.9/150.0 MB 8.6 MB/s eta 0:00:01\n",
      "   ---------------------------------------- 150.0/150.0 MB 8.4 MB/s eta 0:00:00\n",
      "Installing collected packages: xgboost\n",
      "Successfully installed xgboost-3.0.2\n"
     ]
    }
   ],
   "source": [
    "pip install xgboost"
   ]
  },
  {
   "cell_type": "code",
   "execution_count": 76,
   "id": "fe3704d9-53c6-402d-b092-1bfe3300995d",
   "metadata": {},
   "outputs": [],
   "source": [
    "model = XGBClassifier(scale_pos_weight=4)\n",
    "# scale_pos_weight is determined as number of negative samples/number of positive samples which is 4000 legitimate emails/1000spam emails in this case"
   ]
  },
  {
   "cell_type": "code",
   "execution_count": 77,
   "id": "26b028c6-8fae-4788-903f-115e43cba2d8",
   "metadata": {},
   "outputs": [
    {
     "name": "stdout",
     "output_type": "stream",
     "text": [
      "              precision    recall  f1-score   support\n",
      "\n",
      "           0       0.99      0.97      0.98      1314\n",
      "           1       0.92      0.98      0.95       405\n",
      "\n",
      "    accuracy                           0.98      1719\n",
      "   macro avg       0.96      0.98      0.97      1719\n",
      "weighted avg       0.98      0.98      0.98      1719\n",
      "\n"
     ]
    },
    {
     "data": {
      "text/plain": [
       "<sklearn.metrics._plot.confusion_matrix.ConfusionMatrixDisplay at 0x261b07ad430>"
      ]
     },
     "execution_count": 77,
     "metadata": {},
     "output_type": "execute_result"
    },
    {
     "data": {
      "image/png": "[encoded data removed]",
      "text/plain": [
       "<Figure size 640x480 with 2 Axes>"
      ]
     },
     "metadata": {},
     "output_type": "display_data"
    }
   ],
   "source": [
    "model.fit(X_train_tfidf,y_train)\n",
    "y_pred = model.predict(X_test_tfidf)\n",
    "print(classification_report(y_test,y_pred))\n",
    "ConfusionMatrixDisplay.from_estimator(model,X_test_tfidf,y_test)"
   ]
  },
  {
   "cell_type": "code",
   "execution_count": null,
   "id": "1ae42c76-c652-46b8-a461-35cab46176c3",
   "metadata": {},
   "outputs": [],
   "source": []
  },
  {
   "cell_type": "markdown",
   "id": "15373101-aedc-4d69-9083-225805ec4551",
   "metadata": {},
   "source": [
    "#### Logistic regression is found to be a good predictor of spam emails from the email text with 99% accuracy. "
   ]
  }
 ],
 "metadata": {
  "kernelspec": {
   "display_name": "Python 3 (ipykernel)",
   "language": "python",
   "name": "python3"
  },
  "language_info": {
   "codemirror_mode": {
    "name": "ipython",
    "version": 3
   },
   "file_extension": ".py",
   "mimetype": "text/x-python",
   "name": "python",
   "nbconvert_exporter": "python",
   "pygments_lexer": "ipython3",
   "version": "3.12.7"
  }
 },
 "nbformat": 4,
 "nbformat_minor": 5
}
